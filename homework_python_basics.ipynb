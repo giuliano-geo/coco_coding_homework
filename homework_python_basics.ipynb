{
 "cells": [
  {
   "cell_type": "markdown",
   "id": "0b344db1-f6bd-41b0-9bad-40dbe109b877",
   "metadata": {
    "jp-MarkdownHeadingCollapsed": true,
    "tags": []
   },
   "source": [
    "#### 1° Task\n",
    "\n",
    "1. Create a list with the names of every planet in the solar system (in order)\n",
    "2. Have Python tell you how many planets there are by examining your list\n",
    "3. Print the first four planets in the solar system (the rocky planets)\n",
    "4. Print the planet if it has an s at the end in its name"
   ]
  },
  {
   "cell_type": "code",
   "execution_count": 5,
   "id": "3471b5ce-adee-40c3-bce0-614b2f8ee7c9",
   "metadata": {},
   "outputs": [],
   "source": [
    "planets = [\"Mercurio\", \"Venus\", \"Tierra\", \"Marte\", \"Júpiter\", \"Saturno\", \"Urano\", \"Neptuno\"]"
   ]
  },
  {
   "cell_type": "code",
   "execution_count": 8,
   "id": "5d8cf783-a52c-4319-9645-0d0adef36e9c",
   "metadata": {},
   "outputs": [
    {
     "data": {
      "text/plain": [
       "8"
      ]
     },
     "execution_count": 8,
     "metadata": {},
     "output_type": "execute_result"
    }
   ],
   "source": [
    "len(planets)"
   ]
  },
  {
   "cell_type": "code",
   "execution_count": 12,
   "id": "6f53ace9-b112-4b61-b8f4-771d358f7320",
   "metadata": {},
   "outputs": [
    {
     "name": "stdout",
     "output_type": "stream",
     "text": [
      "['Mercurio', 'Venus', 'Tierra', 'Marte']\n"
     ]
    }
   ],
   "source": [
    "print(planets[:4])"
   ]
  },
  {
   "cell_type": "code",
   "execution_count": 13,
   "id": "55f04334-3718-4a3c-8091-3363a5232ace",
   "metadata": {},
   "outputs": [
    {
     "name": "stdout",
     "output_type": "stream",
     "text": [
      "Venus\n"
     ]
    }
   ],
   "source": [
    "print(planets[1])"
   ]
  },
  {
   "cell_type": "markdown",
   "id": "1bcedad9-d408-46dd-b562-4efd528f7a10",
   "metadata": {
    "jp-MarkdownHeadingCollapsed": true,
    "tags": []
   },
   "source": [
    "#### 2° Task\n",
    "\n",
    "A colleague from the United States shared with us the following temperature measurement, given in Fahrenheit:\n",
    "\n",
    "$$\n",
    "T = 30.3^\\circ \\text{F}\n",
    "$$\n",
    "\n",
    "Convert this value to degrees Celsius, knowing that:\n",
    "$$[^\\circ \\text{C}] = \\frac{5}{9} ([^\\circ \\text{F}] - 32) $$ \n",
    "\n",
    "Requirements:\n",
    "\n",
    "* Assign the received data to a variable.\n",
    "* Apply the unit transformation using this variable.\n",
    "* Save the data in Celsius in another variable.\n",
    "* Use the print function to display both results.\n"
   ]
  },
  {
   "cell_type": "code",
   "execution_count": 14,
   "id": "c7e8fc92-6533-4796-8001-5321e7d85d03",
   "metadata": {},
   "outputs": [],
   "source": [
    "T_F=30.3"
   ]
  },
  {
   "cell_type": "code",
   "execution_count": 15,
   "id": "d33598a5-da93-4d67-bf06-619262b8a766",
   "metadata": {},
   "outputs": [],
   "source": [
    "T_C= (5/9)*(T_F-32)"
   ]
  },
  {
   "cell_type": "code",
   "execution_count": 16,
   "id": "8ae76b7f-107d-47d0-b6b4-e5aca0acc132",
   "metadata": {},
   "outputs": [
    {
     "name": "stdout",
     "output_type": "stream",
     "text": [
      "The temperature in Farenheit is: 30.3 and its convertion to Celcius is: -0.9444444444444441\n"
     ]
    }
   ],
   "source": [
    "print(\"The temperature in Farenheit is:\", T_F, \"and its convertion to Celcius is:\", T_C)"
   ]
  },
  {
   "cell_type": "markdown",
   "id": "6a67be8b-f6f9-4d40-9f58-892c191249d9",
   "metadata": {
    "jp-MarkdownHeadingCollapsed": true,
    "tags": []
   },
   "source": [
    "#### 3° Task\n",
    "\n",
    "Given the array: `([1, 2, 3, 4, 5, 6, 7, 8, 9, 10, 11, 12, 13, 14, 15, 16])`, investigate the `numpy` library documentation for reshape the array to be 4x4."
   ]
  },
  {
   "cell_type": "code",
   "execution_count": 17,
   "id": "c13b2f22-2769-4ea1-a996-07ef6e3167a9",
   "metadata": {},
   "outputs": [],
   "source": [
    "import numpy as np"
   ]
  },
  {
   "cell_type": "code",
   "execution_count": 18,
   "id": "4834fad2-9544-4191-9a79-8b6e02aa2df4",
   "metadata": {},
   "outputs": [],
   "source": [
    "a1=np.array([1, 2, 3, 4, 5, 6, 7, 8, 9, 10, 11, 12, 13, 14, 15, 16])"
   ]
  },
  {
   "cell_type": "code",
   "execution_count": 23,
   "id": "6bd25a0d-9c60-458b-b232-19ea32c553c4",
   "metadata": {},
   "outputs": [
    {
     "data": {
      "text/plain": [
       "(16,)"
      ]
     },
     "execution_count": 23,
     "metadata": {},
     "output_type": "execute_result"
    }
   ],
   "source": [
    "a1.shape"
   ]
  },
  {
   "cell_type": "code",
   "execution_count": 24,
   "id": "9c66d3b0-350e-48cd-bbdf-406550d0a4c3",
   "metadata": {},
   "outputs": [
    {
     "data": {
      "text/plain": [
       "array([[ 1,  2,  3,  4],\n",
       "       [ 5,  6,  7,  8],\n",
       "       [ 9, 10, 11, 12],\n",
       "       [13, 14, 15, 16]])"
      ]
     },
     "execution_count": 24,
     "metadata": {},
     "output_type": "execute_result"
    }
   ],
   "source": [
    "a1.reshape((4,4))"
   ]
  },
  {
   "cell_type": "markdown",
   "id": "4c947943-0716-4163-93af-92f3375c81e9",
   "metadata": {
    "jp-MarkdownHeadingCollapsed": true,
    "tags": []
   },
   "source": [
    "#### 4° Task\n",
    "\n",
    "`NumPy` allows us to apply mathematical functions.\n",
    "\n",
    "Calculate the sine and cosine of the angles 0, 30, 45, 60 and 90 given in degrees:\n",
    "1. Create an array with the angles in degrees.\n",
    "2. Convert the angles to radians.\n",
    "3. Calculate the sine and cosine of these angles and store them in two different arrays.\n",
    "\n",
    "_Investigate the `numpy` library to find the functions to convert the angles from degrees to radians and calculate the sine and cosine._"
   ]
  },
  {
   "cell_type": "code",
   "execution_count": 25,
   "id": "69341d7f-3334-4e65-965d-6491973df6a6",
   "metadata": {},
   "outputs": [],
   "source": [
    "a_d =np.array([0,30,45,60,90])"
   ]
  },
  {
   "cell_type": "code",
   "execution_count": 26,
   "id": "e7539778-644a-4bb1-b8db-e74a838aecb0",
   "metadata": {},
   "outputs": [],
   "source": [
    "a_r = np.deg2rad(a_d)"
   ]
  },
  {
   "cell_type": "code",
   "execution_count": 27,
   "id": "918a6b0a-5e04-453a-8269-82b753188de9",
   "metadata": {},
   "outputs": [
    {
     "name": "stdout",
     "output_type": "stream",
     "text": [
      "[0.         0.52359878 0.78539816 1.04719755 1.57079633]\n"
     ]
    }
   ],
   "source": [
    "print(a_r)"
   ]
  },
  {
   "cell_type": "code",
   "execution_count": 28,
   "id": "c884a1e8-ea38-43b1-a0a5-7240fabac070",
   "metadata": {},
   "outputs": [],
   "source": [
    "sin_a_r =np.sin(a_r)"
   ]
  },
  {
   "cell_type": "code",
   "execution_count": 29,
   "id": "eebee532-8160-403b-822d-1c0b6e05958c",
   "metadata": {},
   "outputs": [
    {
     "name": "stdout",
     "output_type": "stream",
     "text": [
      "[0.         0.5        0.70710678 0.8660254  1.        ]\n"
     ]
    }
   ],
   "source": [
    "print(sin_a_r)"
   ]
  },
  {
   "cell_type": "code",
   "execution_count": 30,
   "id": "a1f3a9af-ced8-4275-83bf-415f5a17d5ac",
   "metadata": {},
   "outputs": [],
   "source": [
    "cos_a_r= np.cos(a_r)"
   ]
  },
  {
   "cell_type": "code",
   "execution_count": 31,
   "id": "a7fecf2a-c3dd-418f-8217-0ef69982f1a4",
   "metadata": {},
   "outputs": [
    {
     "name": "stdout",
     "output_type": "stream",
     "text": [
      "[1.00000000e+00 8.66025404e-01 7.07106781e-01 5.00000000e-01\n",
      " 6.12323400e-17]\n"
     ]
    }
   ],
   "source": [
    "print(cos_a_r)"
   ]
  },
  {
   "cell_type": "markdown",
   "id": "0a413053-ff56-47cc-b4ad-6381dab0781e",
   "metadata": {},
   "source": [
    "#### 5° Task\n",
    "\n",
    "\n",
    "**Finite differences | Diferencias finitas**\n",
    "\n",
    "A common approximation for computing derivatives of functions is a finite difference approximation:\n",
    "\n",
    "$$\\frac{d}{dx} y(x) = \\frac{y(x + \\Delta x) - y(x)}{\\Delta x}$$\n",
    "\n",
    "or for discrete data\n",
    "\n",
    "$$\\frac{d}{dx} y(x_i) = \\frac{y(x_i + \\Delta x) - y(x_i)}{\\Delta x} = \\frac{y(x_{i+1}) - y(x_i)}{x_{i+1} - x_{i}}$$\n",
    "\n",
    "This operation can be accomplished using index, slice and vectorized algebraic operations.\n",
    "Try to solve it for the quadratic function!\n",
    "\n",
    "Now, read the numpy documentation to find a function to calculate $\\frac{d}{dx} y(x_i)$."
   ]
  },
  {
   "cell_type": "code",
   "execution_count": null,
   "id": "8b6544d2-dc00-46ac-b454-56c716dc3e40",
   "metadata": {},
   "outputs": [],
   "source": []
  }
 ],
 "metadata": {
  "kernelspec": {
   "display_name": "CoCo",
   "language": "python",
   "name": "coco"
  },
  "language_info": {
   "codemirror_mode": {
    "name": "ipython",
    "version": 3
   },
   "file_extension": ".py",
   "mimetype": "text/x-python",
   "name": "python",
   "nbconvert_exporter": "python",
   "pygments_lexer": "ipython3",
   "version": "3.10.4"
  }
 },
 "nbformat": 4,
 "nbformat_minor": 5
}
