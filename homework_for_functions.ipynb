{
 "cells": [
  {
   "cell_type": "markdown",
   "id": "8e6d4e09-7e27-49db-a194-c931bcd31afb",
   "metadata": {},
   "source": [
    "### 1° Task\n",
    "\n",
    "1. Convert the following list of temperatures in Fahrenheit to Celsius with a for loop.\n",
    "   `temperatures_f = [30.2, 41, 115.7, 77, 130.46, 59, 86, 63.5, 23]`\n",
    "   > Help: It may be useful to create an empty list where we store the temperature data in Celsius and add values to it with the append method.\n",
    "2. Use for loops and conditionals to generate a temperature alert for:\n",
    "    - low temperatures (less or equal than 0°C)\n",
    "    - high temperatures (greater or equal than 35°C)\n",
    "    - normal temperatures (between 0°C and 35°C)\n",
    "3. Generate two functions:\n",
    "    - a function that takes a single value of temperature in Fahrenheit and returns the same value in Celsius.\n",
    "    - a function that takes a single temperature value and prints its corresponding temperature alert.\n",
    "    \n",
    "    Use a for loop to iterate over the temperature values in Fahrenheit: convert the value to Celsius and print the alert. Use the two functions to do so.\n",
    "\n",
    "\n",
    "**Don't forget to document your functions!**\n"
   ]
  },
  {
   "cell_type": "code",
   "execution_count": null,
   "id": "7d02e5a3-128f-4838-922e-74383f41b0c6",
   "metadata": {},
   "outputs": [],
   "source": [
    "# genero una lista con las temperaturas\n",
    "temperatures_f = [30.2, 41, 115.7, 77, 130.46, 59, 86, 63.5, 23]\n",
    "\n",
    "# lista vacia para almacenar los resultados del for\n",
    "temp_C =[]\n",
    "\n",
    "# for loop para iterar dentro de lista y convertir los datos en C°, estos datos son redondeados\n",
    "# y almacenados en la lista vacia temp_C \n",
    "for i in temperatures_f:\n",
    "    t_c = round((i -32 )* 5/9)\n",
    "    temp_C.append(t_c)\n",
    "    "
   ]
  },
  {
   "cell_type": "code",
   "execution_count": null,
   "id": "3d4ee3fa-953e-49e0-8ca8-602e6b0d92a5",
   "metadata": {},
   "outputs": [],
   "source": [
    "temp_C"
   ]
  },
  {
   "cell_type": "code",
   "execution_count": null,
   "id": "e8c5f519-7363-4b6c-9b2d-36f503abf24d",
   "metadata": {},
   "outputs": [],
   "source": [
    "# for loop que va a iterar por cada valor en temp_C. a estos valores los evalua segun el condicional si la temperatura es \n",
    "# menor a 0, mayor a 35 o entre 0 y 35 y les asigna una alerta en cada caso. \n",
    "for i in temp_C:\n",
    "    if i <= 0:\n",
    "        print (str(i) + \"°C es una baja temperatura\")\n",
    "    elif i > 35:\n",
    "        print (str(i) + \"°C es una alta temperatura\")\n",
    "    else:\n",
    "        print (str(i) + \"°C es una temperatura normal\")"
   ]
  },
  {
   "cell_type": "code",
   "execution_count": null,
   "id": "2e562e47-c6e4-4684-b9da-16aaa9f123e4",
   "metadata": {},
   "outputs": [],
   "source": [
    "# defino la funcion para convertir °F a °C. \n",
    "def f2c(t_f):\n",
    "    \"\"\"\n",
    "    funcion que convierte °F a °C\n",
    "    \n",
    "    Parameters\n",
    "    -----\n",
    "    t = valor de temperatura en °F, puede ser inf o float\n",
    "    \n",
    "    Reults\n",
    "    ------\n",
    "    la funcion devuelve el resultado en °C redondeado a 1 decimal\n",
    "    \n",
    "    \"\"\"\n",
    "    temperature_c = (t_f-32) * (5/9)\n",
    "    t_c = round(temperature_c,1)\n",
    "    return t_c"
   ]
  },
  {
   "cell_type": "code",
   "execution_count": null,
   "id": "71ea0df4-4c32-483a-9e99-df542e586f67",
   "metadata": {},
   "outputs": [],
   "source": [
    "def alerta(j):\n",
    "    \"\"\"\n",
    "    alerta si un valor de temperatura es alto, bajo o normal\n",
    "    \n",
    "    Parameters\n",
    "    -----\n",
    "    i = temperatura\n",
    "    \n",
    "    Results\n",
    "    -----\n",
    "    imprime el alerta\n",
    "    \n",
    "    \"\"\"\n",
    "    if j <= 0:\n",
    "        print (str(j) + \"°C es una baja temperatura\")\n",
    "    elif j > 35:\n",
    "        print (str(j) + \"°C es una alta temperatura\")\n",
    "    else:\n",
    "        print (str(j) + \"°C es una temperatura normal\")"
   ]
  },
  {
   "cell_type": "code",
   "execution_count": null,
   "id": "4c0d71b7-d3fc-471f-a03a-68a009ce1834",
   "metadata": {},
   "outputs": [],
   "source": []
  },
  {
   "cell_type": "code",
   "execution_count": null,
   "id": "44a4083b-0620-47f8-876d-2ce32759ebcb",
   "metadata": {},
   "outputs": [],
   "source": [
    "# genero un forloop que toma los valores de temperaturas en F, y dentro del forloop lo convienrte en celcius e imprime el alerta\n",
    "\n",
    "for i in temperatures_f:\n",
    "    alerta(f2c(i))"
   ]
  },
  {
   "cell_type": "markdown",
   "id": "8179baa7-678a-4945-b34f-bc6778afc6ab",
   "metadata": {},
   "source": [
    "### 2° Task\n",
    "\n",
    "Your local airport is famous for its bad weather conditions.\n",
    "They need a tower operator to be constantly monitoring the weather conditions, specially the **wind speed** and the **visibility**.\n",
    "- If the **wind speed** is greater than 12 knots, then the runway must be closed and no plane can takeoff.\n",
    "- If the **visibility** is lower than 100 meters, they should also close the runway.\n",
    "- If the **wind speed** is between 8 kt and 12 kt, they should warn pilots of high wind speeds.\n",
    "- If the **visiblity** is between 100 meters and 500 meters, they should warn pilots of low visibilty conditions.\n",
    "- On any other situation, the weather is good enough so the runway is open and no warning should be issued.\n",
    "\n",
    "They want to automate this warning system so the operator can have more  time to assist pilots.\n",
    "\n",
    "Write a function that takes **wind speed** in knots and **visibility** in meters.\n",
    "The function must raise warnings of high wind speeds or low visiblity conditions, or even close the runway if the weather conditions are bad enough.\n",
    "\n",
    "As a condition, the function must not have `print` statements, instead it should return strings like `\"good weather\"`, `\"low visibility conditions\"` or `\"bad weather: close runway\"`. Be creative!\n",
    "\n",
    "Feel free to test your function against some combinations of **wind speed** and **visiblity**.\n",
    "\n",
    "> **Help**:<br>\n",
    "> Explore how you can use the `and` and `or` operators in your `if` and `elif` statements.\n"
   ]
  },
  {
   "cell_type": "code",
   "execution_count": 201,
   "id": "7200262c-2560-4275-a709-d072e324b8e1",
   "metadata": {},
   "outputs": [],
   "source": [
    "def warning(visibility, windsp):\n",
    "    \"\"\"\n",
    "    anuncia las condiciones de despegue de un aeropuerto\n",
    "    \n",
    "    Parameters \n",
    "    -----\n",
    "    visibility =\n",
    "        float, int\n",
    "        condiciones de visibilidad en metros\n",
    "    windsp =\n",
    "        float, int\n",
    "        velocidad del viento en nudos\n",
    "    \n",
    "    Results\n",
    "    -------\n",
    "    devuelve un aviso sobre las condiciones del despegue\n",
    "    \n",
    "    \"\"\"\n",
    "    # defino los tres posibles estados en los cuales se puede encontrar el aeropuerto\n",
    "    a = \"good enough, take off carefully, though\"\n",
    "    b = \"are you mad? you can't take off with this weather\"\n",
    "    c = \"good weather\"\n",
    "    \n",
    "    # el condicional crea una variable llamada status que se le va asignar los estados previamente definidos segun las \n",
    "    # condiciones del momento\n",
    "\n",
    "    if windsp > 12 or visibility < 100:\n",
    "        status = b \n",
    "    elif windsp >= 8 and windsp <= 12:\n",
    "        status = a \n",
    "    elif visibility >= 100 and visibility <= 500:\n",
    "        status = a\n",
    "    else:\n",
    "        status = c \n",
    "    \n",
    "    # la funcion devuelve el estado asignado en los condicionales \n",
    "    return status\n"
   ]
  },
  {
   "cell_type": "code",
   "execution_count": 202,
   "id": "bfd9b83d-48a6-46c6-9302-fc6a9296645b",
   "metadata": {},
   "outputs": [
    {
     "data": {
      "text/plain": [
       "'good weather'"
      ]
     },
     "execution_count": 202,
     "metadata": {},
     "output_type": "execute_result"
    }
   ],
   "source": [
    "warning(1000,0)"
   ]
  },
  {
   "cell_type": "markdown",
   "id": "0f9da321-b5c9-497b-bcc5-9d33933be0dd",
   "metadata": {},
   "source": [
    "### 3° Task\n",
    "\n",
    "In the previous notebook we repeatedly graphed a zero-centered Gaussian function by modifying the sigma parameter:\n",
    "\n",
    "$$ g(x) = \\frac{1}{\\sigma\\sqrt{2\\pi}} e^{ -\\frac{1}{2}\\left(\\frac{x}{\\sigma}\\right)^2}$$\n",
    "\n",
    "This task could have been easier if we had encapsulated the Gaussian function within a Python function.\n",
    "In addition, defining functions to perform calculations helps us prevent mistake.\n",
    "Especially, if we create a function with good documentation that we can use in the future.\n",
    "These habits (among others) are part of what is known as good practices for software development.\n",
    "\n",
    "1. Write a function that evaluates the Gaussian function and returns its value.\n",
    "2. This function must be able to accept a value of $\\sigma$ as an argument, assuming it by default equal to 1.\n",
    "3. Add a detailed documentation of the Gaussian function. What does the function do? What arguments does it support? What values does it return?\n",
    "4. Select at least three different values of $\\sigma$ and plot the Gaussians using a for loop.\n",
    "\n",
    "**Bonus track**\n",
    "\n",
    "The generalized expression of the Gaussian function is:\n",
    "\n",
    "$$ g(x) = \\frac{1}{\\sigma\\sqrt{2\\pi}} e^{ -\\frac{1}{2}\\left(\\frac{x-\\mu}{\\sigma}\\right)^2}$$\n",
    "\n",
    "Where $\\mu$ indicates the abscissa corresponding to the peak of the function.\n",
    "\n",
    "1. Generalize the above function to allow an additional argument mu, with a default value equal to 0.\n",
    "2. Update the function documentation for the new value.\n",
    "3. Select at least three different values of $ \\mu $ and plot the Gaussians for the same value of $ \\sigma $.\n"
   ]
  },
  {
   "cell_type": "code",
   "execution_count": 1,
   "id": "cbc62760-1b3e-46ce-83ad-5d700de0df97",
   "metadata": {},
   "outputs": [],
   "source": [
    "import numpy as np\n",
    "import matplotlib.pyplot as plt"
   ]
  },
  {
   "cell_type": "code",
   "execution_count": 2,
   "id": "8a8aaedc-7a41-4691-9f1e-a41ab5635279",
   "metadata": {},
   "outputs": [],
   "source": [
    "def gauss(sigma=1):\n",
    "    \"\"\"\n",
    "    Devuelve la funcion gausiana para 50 valores centrada en 0 en un arreglo de valores entre -25 y 25 \n",
    "    \n",
    "    Parametros\n",
    "    ----\n",
    "    sigma: int, float\n",
    "    si no esta especificado, el valor de sigma asume valor = 1 \n",
    "    \n",
    "    Resultado\n",
    "    -----\n",
    "    la funcion devuelve como resultado el array de valores para la funcion gausiana entre -25 y 25\n",
    "    ----\n",
    "    \n",
    "    NOTA: se necesita importar la libreria numpy\n",
    "    NOTA2: para plotear y ver el resultado de manera correcta es necesario crear un array del estilo x = np.arange(-25,25,1)\n",
    "    \"\"\"\n",
    "    x = np.arange(-25,25,1)\n",
    "    \n",
    "    y= 1/(np.sqrt(2.*np.pi)*sigma)*np.exp(-((x/sigma)**2)/2)\n",
    "    return y"
   ]
  },
  {
   "cell_type": "code",
   "execution_count": 3,
   "id": "ae655c52-09fe-40e0-be2f-54c4ea16ac96",
   "metadata": {},
   "outputs": [
    {
     "data": {
      "image/png": "[encoded data removed]",
      "text/plain": [
       "<Figure size 432x288 with 1 Axes>"
      ]
     },
     "metadata": {
      "needs_background": "light"
     },
     "output_type": "display_data"
    }
   ],
   "source": [
    "x = np.arange(-25,25,1) #defino un arreglo para explorar el varlor de gamma como lo sugiere la funcion\n",
    "\n",
    "sigmas= [2,3,10] #defino el arreglo de sigmas que quiero explorar\n",
    "\n",
    "# como voy a plotear con un for, para plotear la funcion en colores especificos y no por default \n",
    "# defino tambien los colores y estilos\n",
    "\n",
    "color= ['orange','green', 'gray'] \n",
    "style= ['-.','--','-']\n",
    "\n",
    "# para que el forloop itere en sigmas, color y style debo definir 3 indices. \n",
    "# esos 3 indices (i,j,k) van a iterar en sigma, color y style respectivamente\n",
    "# para eso ocupo la funcion zip, que me permite dentro de un forloop iterar cada indice con su respectiva variable. \n",
    "\n",
    "for i,j,k in zip(sigmas,color,style):\n",
    "    plt.plot (x, gauss(sigma=i), color=j, linestyle=k, label= \"Gamma =\" + str(i))\n",
    "\n",
    "# las especificaciones del plot, van afuera del loop porque sino \n",
    "plt.legend()\n",
    "plt.ylabel('Frecuencia')\n",
    "plt.xlabel('Variable')\n",
    "plt.title('Exploración del valor Gamma')\n",
    "plt.show()\n",
    "    "
   ]
  },
  {
   "cell_type": "code",
   "execution_count": 14,
   "id": "a7d4a560-cf59-4f34-a241-5c72963bf9ff",
   "metadata": {},
   "outputs": [],
   "source": [
    "def gauss2(sigma=1, mu=0):\n",
    "    \"\"\"\n",
    "    Devuelve la funcion gausiana para 50 valores centrada en mu en un arreglo de valores entre mu-25 y mu+25 \n",
    "    \n",
    "    Parametros\n",
    "    ----\n",
    "    sigma: int, float\n",
    "    si no esta especificado, el valor de sigma asume valor = 1 \n",
    "    mu: int, float\n",
    "    si no esta especificado, el valor de mu asume el valor = 0\n",
    "    \n",
    "    Resultado\n",
    "    -----\n",
    "    la funcion devuelve como resultado el array de valores para la funcion gausiana entre mu-25 y mu+25\n",
    "    ----\n",
    "    \n",
    "    NOTA: se necesita importar la libreria numpy\n",
    "    NOTA2: para plotear el resultado de manera correcta es necesario crear un array similar a x = np.arange(mu-25,mu+25,1)\n",
    "    \"\"\"\n",
    "    x = np.arange(mu-25,mu+25,1)\n",
    "    \n",
    "    y= 1/(np.sqrt(2.*np.pi)*sigma)*np.exp(-(((x-mu)/sigma)**2)/2)\n",
    "    return y"
   ]
  },
  {
   "cell_type": "code",
   "execution_count": 27,
   "id": "202ffc9d-83c7-4e74-a5c1-5bcd6bef9392",
   "metadata": {},
   "outputs": [
    {
     "data": {
      "image/png": "[encoded data removed]",
      "text/plain": [
       "<Figure size 432x288 with 1 Axes>"
      ]
     },
     "metadata": {
      "needs_background": "light"
     },
     "output_type": "display_data"
    }
   ],
   "source": [
    "# defino valores de gamma (g) y mu (m) \n",
    "\n",
    "g=4\n",
    "m=34\n",
    "\n",
    "#defino un arreglo numerico que se base en mu y que se corresponda con lo sugerido en la informacion de la funcion creada \n",
    "variable = np.arange(m-25,m+25,1)\n",
    "\n",
    "plt.plot (variable, gauss2(g,m), color='red', linestyle='-', label= \"Gamma =\" + str(g) + \" Mu =\" + str(m))\n",
    "plt.legend()\n",
    "plt.ylabel('Frecuencia')\n",
    "plt.xlabel('Variable')\n",
    "plt.title('Exploración del valor Gamma y Mu')\n",
    "plt.show()\n"
   ]
  },
  {
   "cell_type": "code",
   "execution_count": null,
   "id": "8867c52a-4341-4dae-a2d9-14056bfd657a",
   "metadata": {},
   "outputs": [],
   "source": []
  },
  {
   "cell_type": "code",
   "execution_count": null,
   "id": "dde50951-23f2-4d85-acb0-158bf6c5b97a",
   "metadata": {},
   "outputs": [],
   "source": []
  }
 ],
 "metadata": {
  "kernelspec": {
   "display_name": "CoCo",
   "language": "python",
   "name": "coco"
  },
  "language_info": {
   "codemirror_mode": {
    "name": "ipython",
    "version": 3
   },
   "file_extension": ".py",
   "mimetype": "text/x-python",
   "name": "python",
   "nbconvert_exporter": "python",
   "pygments_lexer": "ipython3",
   "version": "3.10.4"
  }
 },
 "nbformat": 4,
 "nbformat_minor": 5
}
