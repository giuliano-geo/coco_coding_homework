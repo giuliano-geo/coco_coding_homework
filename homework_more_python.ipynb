{
 "cells": [
  {
   "cell_type": "code",
   "execution_count": null,
   "id": "37b25a17-ab1b-467e-951a-2cb67ac25415",
   "metadata": {},
   "outputs": [],
   "source": []
  },
  {
   "cell_type": "markdown",
   "id": "f24ae1d4-f2e1-4bb4-b911-117feb8a935d",
   "metadata": {},
   "source": [
    "### 1° Task \n",
    "\n",
    "In this opportunity, we share with you a DataFrame with the bathymetry and gravity disturbance profile of the island of Oahu in Hawaii.\n",
    "\n",
    "**Steps:**\n",
    "1. Load the file.\n",
    "2. Clean the DataFrame, so check if the DataFrame has:\n",
    "    * NaN values and remove them.\n",
    "    * duplicate rows and remove them.\n",
    "    * any other problems like out of range values and remove them.\n",
    "3. Plot the _gravity disturbance & distance_ and the _bathimetry & distance_ using `subplot`.\n",
    "   Make the plot as if you were going to put it in an article. \n",
    "\n",
    "\n",
    "### Bonus track\n",
    "\n",
    "We can see from the bathymetry profile that there is a long-wavelength component (almost a gaussian shape) right around the islands.\n",
    "This is due to the _thermal swell_ of the hotspot and not part of the flexure response of the oceanic lithosphere.\n",
    "The swell is isostatically compensated, as seen in the gravity disturbance.\n",
    "We'll fit a gaussian curve to the profile data and remove it from our observations to obtain a residual.\n",
    "\n",
    "**Steps:**\n",
    "1. Define the gaussian function:\n",
    "   $$ h_{gauss} (x) = h_{0} + G \\exp \\left(-\\dfrac{(x - x_0)^2}{\\sigma^2}\\right) $$\n",
    "    \n",
    "2.  Estimate the parameters of this function ($h_0$, $G$, $x_0$, $\\sigma$). You can start with ($h_0$, $G$, $x_0$, $\\sigma$) = (hawaii.distance_km, h0=-5.5, G=1.5, x0=1300, sigma=450).\n",
    "3. Calculate the thermal swell.\n",
    "4. Calculate a residual topography and store it in our original `DataFrame`.\n",
    "   $$ residual = topography_{km} - swell$$\n",
    "5. Make the plot using `subplot` as if you were going to put it in an article. \n",
    "\n"
   ]
  },
  {
   "cell_type": "code",
   "execution_count": 2,
   "id": "9fe7acad-93d1-4c69-8209-a7098796af6e",
   "metadata": {},
   "outputs": [],
   "source": [
    "import pandas as pd\n",
    "import matplotlib.pyplot as plt\n",
    "from pathlib import Path\n",
    "from scipy import stats\n",
    "import numpy as np\n",
    " \n"
   ]
  },
  {
   "cell_type": "code",
   "execution_count": 3,
   "id": "c7f2f849-1ee4-4e37-88b7-b18ba56dc555",
   "metadata": {},
   "outputs": [
    {
     "data": {
      "text/plain": [
       "'/home/jupyter-giuliano.camillett-3f926/coco_coding_homework'"
      ]
     },
     "execution_count": 3,
     "metadata": {},
     "output_type": "execute_result"
    }
   ],
   "source": [
    "pwd"
   ]
  },
  {
   "cell_type": "code",
   "execution_count": 4,
   "id": "4ec57296-f168-45e3-814b-90f8b7f590ab",
   "metadata": {},
   "outputs": [],
   "source": [
    "datafolder = Path(\"..\") / \"coco_coding_homework\"\n",
    "data_hawaii = pd.read_csv(datafolder /\"hawaii-profile.csv\")"
   ]
  },
  {
   "cell_type": "code",
   "execution_count": 5,
   "id": "96e1ba7c-ba86-408d-8ee7-c6ebc6222d3c",
   "metadata": {},
   "outputs": [
    {
     "data": {
      "text/html": [
       "<div>\n",
       "<style scoped>\n",
       "    .dataframe tbody tr th:only-of-type {\n",
       "        vertical-align: middle;\n",
       "    }\n",
       "\n",
       "    .dataframe tbody tr th {\n",
       "        vertical-align: top;\n",
       "    }\n",
       "\n",
       "    .dataframe thead th {\n",
       "        text-align: right;\n",
       "    }\n",
       "</style>\n",
       "<table border=\"1\" class=\"dataframe\">\n",
       "  <thead>\n",
       "    <tr style=\"text-align: right;\">\n",
       "      <th></th>\n",
       "      <th>latitude</th>\n",
       "      <th>longitude</th>\n",
       "      <th>distance_km</th>\n",
       "      <th>topography_km</th>\n",
       "      <th>disturbance_mgal</th>\n",
       "    </tr>\n",
       "  </thead>\n",
       "  <tbody>\n",
       "    <tr>\n",
       "      <th>0</th>\n",
       "      <td>13.000000</td>\n",
       "      <td>-165.000000</td>\n",
       "      <td>0.000000</td>\n",
       "      <td>-4.161000</td>\n",
       "      <td>23.008098</td>\n",
       "    </tr>\n",
       "    <tr>\n",
       "      <th>1</th>\n",
       "      <td>13.082915</td>\n",
       "      <td>-164.929648</td>\n",
       "      <td>12.070042</td>\n",
       "      <td>-4.747907</td>\n",
       "      <td>21.180807</td>\n",
       "    </tr>\n",
       "    <tr>\n",
       "      <th>2</th>\n",
       "      <td>13.165829</td>\n",
       "      <td>-164.859296</td>\n",
       "      <td>24.140085</td>\n",
       "      <td>-5.452608</td>\n",
       "      <td>18.099661</td>\n",
       "    </tr>\n",
       "    <tr>\n",
       "      <th>3</th>\n",
       "      <td>13.248744</td>\n",
       "      <td>-164.788945</td>\n",
       "      <td>36.210127</td>\n",
       "      <td>-5.581402</td>\n",
       "      <td>14.372280</td>\n",
       "    </tr>\n",
       "    <tr>\n",
       "      <th>4</th>\n",
       "      <td>13.331658</td>\n",
       "      <td>-164.718593</td>\n",
       "      <td>48.280170</td>\n",
       "      <td>-5.438978</td>\n",
       "      <td>10.606283</td>\n",
       "    </tr>\n",
       "  </tbody>\n",
       "</table>\n",
       "</div>"
      ],
      "text/plain": [
       "    latitude   longitude  distance_km  topography_km  disturbance_mgal\n",
       "0  13.000000 -165.000000     0.000000      -4.161000         23.008098\n",
       "1  13.082915 -164.929648    12.070042      -4.747907         21.180807\n",
       "2  13.165829 -164.859296    24.140085      -5.452608         18.099661\n",
       "3  13.248744 -164.788945    36.210127      -5.581402         14.372280\n",
       "4  13.331658 -164.718593    48.280170      -5.438978         10.606283"
      ]
     },
     "execution_count": 5,
     "metadata": {},
     "output_type": "execute_result"
    }
   ],
   "source": [
    "#para saber con que datos estamos trabajando y la forma general del dataframe\n",
    "\n",
    "data_hawaii.head()\n"
   ]
  },
  {
   "cell_type": "code",
   "execution_count": 6,
   "id": "8811732e-e142-42e8-90fb-d83cd75fe941",
   "metadata": {},
   "outputs": [
    {
     "data": {
      "text/plain": [
       "(212, 5)"
      ]
     },
     "execution_count": 6,
     "metadata": {},
     "output_type": "execute_result"
    }
   ],
   "source": [
    "# veo la forma del dataframe para tener un punto de referencia para la posterior limpieza de los datos\n",
    "data_hawaii.shape"
   ]
  },
  {
   "cell_type": "code",
   "execution_count": 7,
   "id": "a73d3e1a-ef24-40b2-b86d-df2a91cb2d0b",
   "metadata": {},
   "outputs": [
    {
     "data": {
      "text/html": [
       "<div>\n",
       "<style scoped>\n",
       "    .dataframe tbody tr th:only-of-type {\n",
       "        vertical-align: middle;\n",
       "    }\n",
       "\n",
       "    .dataframe tbody tr th {\n",
       "        vertical-align: top;\n",
       "    }\n",
       "\n",
       "    .dataframe thead th {\n",
       "        text-align: right;\n",
       "    }\n",
       "</style>\n",
       "<table border=\"1\" class=\"dataframe\">\n",
       "  <thead>\n",
       "    <tr style=\"text-align: right;\">\n",
       "      <th></th>\n",
       "      <th>latitude</th>\n",
       "      <th>longitude</th>\n",
       "      <th>distance_km</th>\n",
       "      <th>topography_km</th>\n",
       "      <th>disturbance_mgal</th>\n",
       "    </tr>\n",
       "  </thead>\n",
       "  <tbody>\n",
       "    <tr>\n",
       "      <th>0</th>\n",
       "      <td>False</td>\n",
       "      <td>False</td>\n",
       "      <td>False</td>\n",
       "      <td>False</td>\n",
       "      <td>False</td>\n",
       "    </tr>\n",
       "    <tr>\n",
       "      <th>1</th>\n",
       "      <td>False</td>\n",
       "      <td>False</td>\n",
       "      <td>False</td>\n",
       "      <td>False</td>\n",
       "      <td>False</td>\n",
       "    </tr>\n",
       "    <tr>\n",
       "      <th>2</th>\n",
       "      <td>False</td>\n",
       "      <td>False</td>\n",
       "      <td>False</td>\n",
       "      <td>False</td>\n",
       "      <td>False</td>\n",
       "    </tr>\n",
       "    <tr>\n",
       "      <th>3</th>\n",
       "      <td>False</td>\n",
       "      <td>False</td>\n",
       "      <td>False</td>\n",
       "      <td>False</td>\n",
       "      <td>False</td>\n",
       "    </tr>\n",
       "    <tr>\n",
       "      <th>4</th>\n",
       "      <td>False</td>\n",
       "      <td>False</td>\n",
       "      <td>False</td>\n",
       "      <td>False</td>\n",
       "      <td>False</td>\n",
       "    </tr>\n",
       "    <tr>\n",
       "      <th>...</th>\n",
       "      <td>...</td>\n",
       "      <td>...</td>\n",
       "      <td>...</td>\n",
       "      <td>...</td>\n",
       "      <td>...</td>\n",
       "    </tr>\n",
       "    <tr>\n",
       "      <th>207</th>\n",
       "      <td>False</td>\n",
       "      <td>False</td>\n",
       "      <td>False</td>\n",
       "      <td>False</td>\n",
       "      <td>False</td>\n",
       "    </tr>\n",
       "    <tr>\n",
       "      <th>208</th>\n",
       "      <td>False</td>\n",
       "      <td>False</td>\n",
       "      <td>False</td>\n",
       "      <td>False</td>\n",
       "      <td>False</td>\n",
       "    </tr>\n",
       "    <tr>\n",
       "      <th>209</th>\n",
       "      <td>False</td>\n",
       "      <td>False</td>\n",
       "      <td>False</td>\n",
       "      <td>False</td>\n",
       "      <td>False</td>\n",
       "    </tr>\n",
       "    <tr>\n",
       "      <th>210</th>\n",
       "      <td>False</td>\n",
       "      <td>False</td>\n",
       "      <td>False</td>\n",
       "      <td>False</td>\n",
       "      <td>False</td>\n",
       "    </tr>\n",
       "    <tr>\n",
       "      <th>211</th>\n",
       "      <td>False</td>\n",
       "      <td>False</td>\n",
       "      <td>False</td>\n",
       "      <td>False</td>\n",
       "      <td>False</td>\n",
       "    </tr>\n",
       "  </tbody>\n",
       "</table>\n",
       "<p>212 rows × 5 columns</p>\n",
       "</div>"
      ],
      "text/plain": [
       "     latitude  longitude  distance_km  topography_km  disturbance_mgal\n",
       "0       False      False        False          False             False\n",
       "1       False      False        False          False             False\n",
       "2       False      False        False          False             False\n",
       "3       False      False        False          False             False\n",
       "4       False      False        False          False             False\n",
       "..        ...        ...          ...            ...               ...\n",
       "207     False      False        False          False             False\n",
       "208     False      False        False          False             False\n",
       "209     False      False        False          False             False\n",
       "210     False      False        False          False             False\n",
       "211     False      False        False          False             False\n",
       "\n",
       "[212 rows x 5 columns]"
      ]
     },
     "execution_count": 7,
     "metadata": {},
     "output_type": "execute_result"
    }
   ],
   "source": [
    "#explorar si mi dataframe tiene valores NaN\n",
    "data_hawaii.isnull()"
   ]
  },
  {
   "cell_type": "code",
   "execution_count": 8,
   "id": "0951421e-62a4-4b9f-95e5-f846fa4547a4",
   "metadata": {},
   "outputs": [
    {
     "data": {
      "text/plain": [
       "True"
      ]
     },
     "execution_count": 8,
     "metadata": {},
     "output_type": "execute_result"
    }
   ],
   "source": [
    "# para evitar mostrar todas las columnas y saber si tengo un NaN, lo exploro de la siguiente mannera\n",
    "data_hawaii.isnull().values.any()"
   ]
  },
  {
   "cell_type": "code",
   "execution_count": 9,
   "id": "3350f6c0-f423-4b94-a09d-5b094e5ef0f4",
   "metadata": {},
   "outputs": [],
   "source": [
    "# se que tengo nan, si me quiero deshacer de ellos, observar la cantidad de filas al principio y luego\n",
    "# de esta linea\n",
    "data_hawaii= data_hawaii.dropna()"
   ]
  },
  {
   "cell_type": "code",
   "execution_count": 10,
   "id": "7cceb4f3-26cc-4489-a93e-098aa5ef7ed3",
   "metadata": {},
   "outputs": [
    {
     "data": {
      "text/html": [
       "<div>\n",
       "<style scoped>\n",
       "    .dataframe tbody tr th:only-of-type {\n",
       "        vertical-align: middle;\n",
       "    }\n",
       "\n",
       "    .dataframe tbody tr th {\n",
       "        vertical-align: top;\n",
       "    }\n",
       "\n",
       "    .dataframe thead th {\n",
       "        text-align: right;\n",
       "    }\n",
       "</style>\n",
       "<table border=\"1\" class=\"dataframe\">\n",
       "  <thead>\n",
       "    <tr style=\"text-align: right;\">\n",
       "      <th></th>\n",
       "      <th>latitude</th>\n",
       "      <th>longitude</th>\n",
       "      <th>distance_km</th>\n",
       "      <th>topography_km</th>\n",
       "      <th>disturbance_mgal</th>\n",
       "    </tr>\n",
       "  </thead>\n",
       "  <tbody>\n",
       "    <tr>\n",
       "      <th>56</th>\n",
       "      <td>17.062814</td>\n",
       "      <td>-161.552764</td>\n",
       "      <td>591.432077</td>\n",
       "      <td>-5.542519</td>\n",
       "      <td>4.088689</td>\n",
       "    </tr>\n",
       "    <tr>\n",
       "      <th>131</th>\n",
       "      <td>23.198492</td>\n",
       "      <td>-156.346734</td>\n",
       "      <td>1484.615214</td>\n",
       "      <td>-4.237042</td>\n",
       "      <td>26.279725</td>\n",
       "    </tr>\n",
       "    <tr>\n",
       "      <th>132</th>\n",
       "      <td>23.198492</td>\n",
       "      <td>-156.346734</td>\n",
       "      <td>1484.615214</td>\n",
       "      <td>-4.237042</td>\n",
       "      <td>26.279725</td>\n",
       "    </tr>\n",
       "    <tr>\n",
       "      <th>133</th>\n",
       "      <td>23.198492</td>\n",
       "      <td>-156.346734</td>\n",
       "      <td>1484.615214</td>\n",
       "      <td>-4.237042</td>\n",
       "      <td>26.279725</td>\n",
       "    </tr>\n",
       "    <tr>\n",
       "      <th>134</th>\n",
       "      <td>23.198492</td>\n",
       "      <td>-156.346734</td>\n",
       "      <td>1484.615214</td>\n",
       "      <td>-4.237042</td>\n",
       "      <td>26.279725</td>\n",
       "    </tr>\n",
       "  </tbody>\n",
       "</table>\n",
       "</div>"
      ],
      "text/plain": [
       "      latitude   longitude  distance_km  topography_km  disturbance_mgal\n",
       "56   17.062814 -161.552764   591.432077      -5.542519          4.088689\n",
       "131  23.198492 -156.346734  1484.615214      -4.237042         26.279725\n",
       "132  23.198492 -156.346734  1484.615214      -4.237042         26.279725\n",
       "133  23.198492 -156.346734  1484.615214      -4.237042         26.279725\n",
       "134  23.198492 -156.346734  1484.615214      -4.237042         26.279725"
      ]
     },
     "execution_count": 10,
     "metadata": {},
     "output_type": "execute_result"
    }
   ],
   "source": [
    "#con este comando busco si existen datos duplicados\n",
    "data_hawaii[data_hawaii.duplicated()]"
   ]
  },
  {
   "cell_type": "code",
   "execution_count": 11,
   "id": "a80ec84f-fa68-47bb-88d5-cd352c41fd89",
   "metadata": {},
   "outputs": [],
   "source": [
    "#sabiendo de la existencia de datos duplicados, los elimino\n",
    "data_hawaii = data_hawaii.drop_duplicates()"
   ]
  },
  {
   "cell_type": "code",
   "execution_count": 12,
   "id": "928af74b-101c-407b-bd99-5ca687bb4a92",
   "metadata": {},
   "outputs": [
    {
     "data": {
      "text/plain": [
       "(201, 5)"
      ]
     },
     "execution_count": 12,
     "metadata": {},
     "output_type": "execute_result"
    }
   ],
   "source": [
    "#corroboro su eliminacion\n",
    "data_hawaii.shape"
   ]
  },
  {
   "cell_type": "code",
   "execution_count": 13,
   "id": "d3e2cee1-41fa-4be4-8e38-1157957003bd",
   "metadata": {},
   "outputs": [
    {
     "data": {
      "text/plain": [
       "[<matplotlib.lines.Line2D at 0x7fd7486db9a0>]"
      ]
     },
     "execution_count": 13,
     "metadata": {},
     "output_type": "execute_result"
    },
    {
     "data": {
      "image/png": "[encoded data removed]",
      "text/plain": [
       "<Figure size 432x288 with 1 Axes>"
      ]
     },
     "metadata": {
      "needs_background": "light"
     },
     "output_type": "display_data"
    }
   ],
   "source": [
    "#proyecto variables para ver si existen outliers\n",
    "plt.plot (data_hawaii.distance_km, data_hawaii.disturbance_mgal)"
   ]
  },
  {
   "cell_type": "code",
   "execution_count": 14,
   "id": "8941a6fb-b37f-4602-8923-63462c6542aa",
   "metadata": {},
   "outputs": [],
   "source": [
    "# genero un filtro que me devuelva los datos que son aoutliers\n",
    "condicion_outlier = data_hawaii[\"disturbance_mgal\"] < -100"
   ]
  },
  {
   "cell_type": "code",
   "execution_count": 15,
   "id": "3ea65d22-cd6a-4a64-9c8b-692b9805b273",
   "metadata": {},
   "outputs": [
    {
     "data": {
      "text/html": [
       "<div>\n",
       "<style scoped>\n",
       "    .dataframe tbody tr th:only-of-type {\n",
       "        vertical-align: middle;\n",
       "    }\n",
       "\n",
       "    .dataframe tbody tr th {\n",
       "        vertical-align: top;\n",
       "    }\n",
       "\n",
       "    .dataframe thead th {\n",
       "        text-align: right;\n",
       "    }\n",
       "</style>\n",
       "<table border=\"1\" class=\"dataframe\">\n",
       "  <thead>\n",
       "    <tr style=\"text-align: right;\">\n",
       "      <th></th>\n",
       "      <th>latitude</th>\n",
       "      <th>longitude</th>\n",
       "      <th>distance_km</th>\n",
       "      <th>topography_km</th>\n",
       "      <th>disturbance_mgal</th>\n",
       "    </tr>\n",
       "  </thead>\n",
       "  <tbody>\n",
       "    <tr>\n",
       "      <th>188</th>\n",
       "      <td>27.596965</td>\n",
       "      <td>-152.61819</td>\n",
       "      <td>2124.327461</td>\n",
       "      <td>-5.44891</td>\n",
       "      <td>-250.043523</td>\n",
       "    </tr>\n",
       "  </tbody>\n",
       "</table>\n",
       "</div>"
      ],
      "text/plain": [
       "      latitude  longitude  distance_km  topography_km  disturbance_mgal\n",
       "188  27.596965 -152.61819  2124.327461       -5.44891       -250.043523"
      ]
     },
     "execution_count": 15,
     "metadata": {},
     "output_type": "execute_result"
    }
   ],
   "source": [
    "#busco el/los datos outliers para conocer su indice\n",
    "data_hawaii[condicion_outlier]"
   ]
  },
  {
   "cell_type": "code",
   "execution_count": 16,
   "id": "844efa55-3659-4e55-856e-a8f989a6602c",
   "metadata": {},
   "outputs": [],
   "source": [
    "#elimino los outlier por su indice.\n",
    "data_hawaii.drop(index=188, axis=0, inplace=True)"
   ]
  },
  {
   "cell_type": "code",
   "execution_count": 17,
   "id": "fbb079d3-3640-4043-8a16-54a15b370c3a",
   "metadata": {},
   "outputs": [
    {
     "data": {
      "text/plain": [
       "(200, 5)"
      ]
     },
     "execution_count": 17,
     "metadata": {},
     "output_type": "execute_result"
    }
   ],
   "source": [
    "#corroboro eliminacion\n",
    "data_hawaii.shape"
   ]
  },
  {
   "cell_type": "code",
   "execution_count": 18,
   "id": "531cc07c-38e9-424b-9c18-30c1ba050d35",
   "metadata": {},
   "outputs": [
    {
     "data": {
      "text/plain": [
       "[<matplotlib.lines.Line2D at 0x7fd7402e7310>]"
      ]
     },
     "execution_count": 18,
     "metadata": {},
     "output_type": "execute_result"
    },
    {
     "data": {
      "image/png": "[encoded data removed]",
      "text/plain": [
       "<Figure size 432x288 with 1 Axes>"
      ]
     },
     "metadata": {
      "needs_background": "light"
     },
     "output_type": "display_data"
    }
   ],
   "source": [
    "#corroboro eliminacion\n",
    "plt.plot (data_hawaii.distance_km, data_hawaii.disturbance_mgal)"
   ]
  },
  {
   "cell_type": "code",
   "execution_count": 19,
   "id": "06aa0f66-e2e5-4cd1-bd5f-0f74e09bb0fd",
   "metadata": {},
   "outputs": [
    {
     "data": {
      "image/png": "[encoded data removed]",
      "text/plain": [
       "<Figure size 480x320 with 2 Axes>"
      ]
     },
     "metadata": {},
     "output_type": "display_data"
    }
   ],
   "source": [
    "fig = plt.figure(dpi=80, facecolor='w', edgecolor='k') #creo una figura vacia\n",
    "\n",
    "ax1 = fig.add_subplot(2,1,1) #añado sublot, hay varias maneras, a mi me sirve generar para cada subplot \n",
    "# un ax1, ax2, etc, y despues simplemente los llamo para asignar xlabel, ylabel etc.\n",
    "# al final el comando tight_layout() pone las figuras en correcto espaciamiento, sin eso se me superponen\n",
    "# elementos de los subplot\n",
    "ax1.plot(data_hawaii.distance_km, data_hawaii.disturbance_mgal, color = 'green', label='Disturbance', linestyle='-') \n",
    "ax1.set_xlabel(r'Distance [Km]')\n",
    "ax1.set_ylabel(r'Disturbance [mgal]')\n",
    "ax1.title.set_text('Gravity disturbance of Hawaii')\n",
    "ax1.legend()\n",
    "\n",
    "ax2 = fig.add_subplot(2,1,2)\n",
    "ax2.plot(data_hawaii.distance_km, data_hawaii.topography_km, color = 'red', label='Distance', linestyle='-') \n",
    "ax2.set_xlabel(r'Distance [Km]')\n",
    "ax2.set_ylabel(r'Topography [Km]')\n",
    "ax2.title.set_text('Bathimetry of Hawaii')\n",
    "ax2.legend()\n",
    "\n",
    "fig.tight_layout()"
   ]
  },
  {
   "cell_type": "markdown",
   "id": "fcc892e4-f0bd-4188-9596-eab1664a216b",
   "metadata": {},
   "source": [
    "**Steps:**\n",
    "1. Define the gaussian function:\n",
    "   $$ h_{gauss} (x) = h_{0} + G \\exp \\left(-\\dfrac{(x - x_0)^2}{\\sigma^2}\\right) $$\n",
    "    \n",
    "2.  Estimate the parameters of this function ($h_0$, $G$, $x_0$, $\\sigma$). You can start with ($h_0$, $G$, $x_0$, $\\sigma$) = (hawaii.distance_km, h0=-5.5, G=1.5, x0=1300, sigma=450).\n",
    "3. Calculate the thermal swell.\n",
    "4. Calculate a residual topography and store it in our original `DataFrame`.\n",
    "   $$ residual = topography_{km} - swell$$\n",
    "5. Make the plot using `subplot` as if you were going to put it in an article. \n",
    "\n"
   ]
  },
  {
   "cell_type": "code",
   "execution_count": 20,
   "id": "9ced8473-2b40-48e7-a6f7-6adcd37e4e9f",
   "metadata": {},
   "outputs": [],
   "source": [
    "h0=-5.5\n",
    "G=1.5\n",
    "x0=1300\n",
    "sigma=450\n",
    "x = data_hawaii.topography_km\n",
    "hgauss= h0 + G*np.exp(-((x-x0)/(sigma**2)))\n"
   ]
  },
  {
   "cell_type": "code",
   "execution_count": 21,
   "id": "659a6f74-8cca-44df-8b23-aeabacf60a29",
   "metadata": {},
   "outputs": [
    {
     "data": {
      "text/plain": [
       "[<matplotlib.lines.Line2D at 0x7fd74023abc0>]"
      ]
     },
     "execution_count": 21,
     "metadata": {},
     "output_type": "execute_result"
    },
    {
     "data": {
      "image/png": "[encoded data removed]",
      "text/plain": [
       "<Figure size 432x288 with 1 Axes>"
      ]
     },
     "metadata": {
      "needs_background": "light"
     },
     "output_type": "display_data"
    }
   ],
   "source": [
    "plt.plot(hgauss)"
   ]
  },
  {
   "cell_type": "code",
   "execution_count": 22,
   "id": "3d3ca453-a8e7-46d0-bf6c-4740f5e0d32f",
   "metadata": {},
   "outputs": [
    {
     "name": "stdout",
     "output_type": "stream",
     "text": [
      "0     -4.161000\n",
      "1     -4.747907\n",
      "2     -5.452608\n",
      "3     -5.581402\n",
      "4     -5.438978\n",
      "         ...   \n",
      "207   -5.539440\n",
      "208   -5.481472\n",
      "209   -5.503901\n",
      "210   -5.467104\n",
      "211   -5.483000\n",
      "Name: topography_km, Length: 200, dtype: float64\n"
     ]
    }
   ],
   "source": []
  },
  {
   "cell_type": "code",
   "execution_count": 23,
   "id": "6fe34468-123b-4632-b5c1-2285fea179f9",
   "metadata": {},
   "outputs": [
    {
     "data": {
      "text/plain": [
       "[<matplotlib.lines.Line2D at 0x7fd7402b5810>]"
      ]
     },
     "execution_count": 23,
     "metadata": {},
     "output_type": "execute_result"
    },
    {
     "data": {
      "image/png": "[encoded data removed]",
      "text/plain": [
       "<Figure size 432x288 with 1 Axes>"
      ]
     },
     "metadata": {
      "needs_background": "light"
     },
     "output_type": "display_data"
    }
   ],
   "source": [
    "residual = data_hawaii.topography_km - hgauss\n",
    "plt.plot (data_hawaii.distance_km, residual)\n",
    "plt.plot(data_hawaii.distance_km, data_hawaii.topography_km)"
   ]
  },
  {
   "cell_type": "code",
   "execution_count": 25,
   "id": "7d5acb4c-6382-4145-915f-5ff71b3a3e4e",
   "metadata": {},
   "outputs": [
    {
     "name": "stdout",
     "output_type": "stream",
     "text": [
      "0     -0.170692\n",
      "1     -0.757603\n",
      "2     -1.462309\n",
      "3     -1.591105\n",
      "4     -1.448679\n",
      "         ...   \n",
      "207   -1.549141\n",
      "208   -1.491174\n",
      "209   -1.513603\n",
      "210   -1.476806\n",
      "211   -1.492701\n",
      "Name: topography_km, Length: 200, dtype: float64\n"
     ]
    }
   ],
   "source": []
  },
  {
   "cell_type": "code",
   "execution_count": 26,
   "id": "2131ab44-239c-4896-935f-d91293b97e2a",
   "metadata": {},
   "outputs": [
    {
     "name": "stdout",
     "output_type": "stream",
     "text": [
      "0     -3.990308\n",
      "1     -3.990304\n",
      "2     -3.990299\n",
      "3     -3.990298\n",
      "4     -3.990299\n",
      "         ...   \n",
      "207   -3.990298\n",
      "208   -3.990299\n",
      "209   -3.990298\n",
      "210   -3.990299\n",
      "211   -3.990299\n",
      "Name: topography_km, Length: 200, dtype: float64\n"
     ]
    }
   ],
   "source": [
    "print(hgauss)"
   ]
  },
  {
   "cell_type": "code",
   "execution_count": 24,
   "id": "53dccb6e-b40e-4568-863f-3d5769972f56",
   "metadata": {},
   "outputs": [
    {
     "data": {
      "image/png": "[encoded data removed]",
      "text/plain": [
       "<Figure size 480x320 with 2 Axes>"
      ]
     },
     "metadata": {},
     "output_type": "display_data"
    }
   ],
   "source": [
    "fig = plt.figure(dpi=80, facecolor='w', edgecolor='k') #creo una figura vacia\n",
    "\n",
    "ax1 = fig.add_subplot(2,1,1) #añado sublot, hay varias maneras, a mi me sirve generar para cada subplot \n",
    "# un ax1, ax2, etc, y despues simplemente los llamo para asignar xlabel, ylabel etc.\n",
    "# al final el comando tight_layout() pone las figuras en correcto espaciamiento, sin eso se me superponen\n",
    "# elementos de los subplot\n",
    "ax1.plot(data_hawaii.distance_km, data_hawaii.disturbance_mgal, color = 'green', label='Disturbance', linestyle='-') \n",
    "ax1.set_xlabel(r'Distance [Km]')\n",
    "ax1.set_ylabel(r'Disturbance [mgal]')\n",
    "ax1.title.set_text('Gravity disturbance of Hawaii')\n",
    "ax1.legend()\n",
    "\n",
    "ax2 = fig.add_subplot(2,1,2)\n",
    "ax2.plot(data_hawaii.distance_km, residual, color = 'red', label='bathimetry', linestyle='-') \n",
    "ax2.set_xlabel(r'Distance [Km]')\n",
    "ax2.set_ylabel(r'Bathimetry [Km]')\n",
    "ax2.title.set_text('Bathimetry of Hawaii')\n",
    "ax2.legend()\n",
    "\n",
    "fig.tight_layout()"
   ]
  },
  {
   "cell_type": "markdown",
   "id": "93ab9cc9-b0ed-43b9-9dc1-ae87f03aeae6",
   "metadata": {},
   "source": [
    "Esta linea es una prueba para explorar el funcionamiento de branches"
   ]
  },
  {
   "cell_type": "code",
   "execution_count": null,
   "id": "6b0d522d-af3a-4068-b599-df99e4730cea",
   "metadata": {},
   "outputs": [],
   "source": []
  }
 ],
 "metadata": {
  "kernelspec": {
   "display_name": "CoCo",
   "language": "python",
   "name": "coco"
  },
  "language_info": {
   "codemirror_mode": {
    "name": "ipython",
    "version": 3
   },
   "file_extension": ".py",
   "mimetype": "text/x-python",
   "name": "python",
   "nbconvert_exporter": "python",
   "pygments_lexer": "ipython3",
   "version": "3.10.4"
  }
 },
 "nbformat": 4,
 "nbformat_minor": 5
}
